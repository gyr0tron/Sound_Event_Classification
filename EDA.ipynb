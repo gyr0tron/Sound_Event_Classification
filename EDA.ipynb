{
 "cells": [
  {
   "cell_type": "code",
   "execution_count": 14,
   "id": "4d5ad0bb-f37f-451a-9c74-7a21baa41d27",
   "metadata": {},
   "outputs": [],
   "source": [
    "import numpy as np\n",
    "import pandas as pd\n",
    "import librosa\n",
    "\n",
    "# from keras.models import Sequential\n",
    "# from keras.layers import Dense\n",
    "from sklearn.preprocessing import MultiLabelBinarizer\n",
    "# from sklearn.model_selection import RepeatedKFold\n",
    "# from sklearn.metrics import accuracy_score\n",
    "import matplotlib.pyplot as plt\n",
    "\n",
    "\n",
    "from tqdm import tqdm\n",
    "import os\n",
    "%matplotlib inline"
   ]
  },
  {
   "cell_type": "code",
   "execution_count": 2,
   "id": "657fae27-2a42-4ac4-bde6-b151ddcfd87b",
   "metadata": {},
   "outputs": [],
   "source": [
    "DEV_ROOT = './Data/FSD50K.dev_audio/'\n",
    "TEST_ROOT = './Data/FSD50K.eval_audio/'\n",
    "\n",
    "raw_dev_df = pd.read_csv('./Data/FSD50K.ground_truth/dev.csv', dtype={'fname': 'string'})\n",
    "\n",
    "test_df = pd.read_csv('./Data/FSD50K.ground_truth/eval.csv', dtype={'fname': 'string'})\n",
    "vocab_df = pd.read_csv('./Data/FSD50K.ground_truth/vocabulary.csv', index_col=0, header=None, names=['label','mids'])\n",
    "vocab_dict = dict(zip(vocab_df.mids, vocab_df.label))\n",
    "\n",
    "raw_dev_df['mids'] = raw_dev_df['mids'].apply(lambda x: tuple(x.split(',')))\n",
    "test_df['mids'] = test_df['mids'].apply(lambda x: tuple(x.split(',')))\n",
    "\n",
    "one_hot_encoder = MultiLabelBinarizer()\n",
    "one_hot_encoder.fit(raw_dev_df['mids'])\n",
    "output_vec = one_hot_encoder.transform(raw_dev_df['mids'])\n",
    "raw_dev_df['output_vec'] = output_vec.tolist()\n",
    "output_vec = one_hot_encoder.transform(test_df['mids'])\n",
    "test_df['output_vec'] = output_vec.tolist()\n",
    "\n",
    "train_df = raw_dev_df[raw_dev_df['split'] == 'train']\n",
    "val_df = raw_dev_df[raw_dev_df['split'] == 'val']"
   ]
  },
  {
   "cell_type": "code",
   "execution_count": 3,
   "id": "940f2dff-990d-4b50-9adb-8e47b4200ca2",
   "metadata": {},
   "outputs": [
    {
     "data": {
      "text/html": [
       "<div>\n",
       "<style scoped>\n",
       "    .dataframe tbody tr th:only-of-type {\n",
       "        vertical-align: middle;\n",
       "    }\n",
       "\n",
       "    .dataframe tbody tr th {\n",
       "        vertical-align: top;\n",
       "    }\n",
       "\n",
       "    .dataframe thead th {\n",
       "        text-align: right;\n",
       "    }\n",
       "</style>\n",
       "<table border=\"1\" class=\"dataframe\">\n",
       "  <thead>\n",
       "    <tr style=\"text-align: right;\">\n",
       "      <th></th>\n",
       "      <th>fname</th>\n",
       "      <th>labels</th>\n",
       "      <th>mids</th>\n",
       "      <th>split</th>\n",
       "      <th>output_vec</th>\n",
       "    </tr>\n",
       "  </thead>\n",
       "  <tbody>\n",
       "    <tr>\n",
       "      <th>0</th>\n",
       "      <td>64760</td>\n",
       "      <td>Electric_guitar,Guitar,Plucked_string_instrume...</td>\n",
       "      <td>(/m/02sgy, /m/0342h, /m/0fx80y, /m/04szw, /m/0...</td>\n",
       "      <td>train</td>\n",
       "      <td>[0, 0, 0, 0, 0, 0, 0, 0, 0, 0, 0, 0, 0, 0, 0, ...</td>\n",
       "    </tr>\n",
       "    <tr>\n",
       "      <th>1</th>\n",
       "      <td>16399</td>\n",
       "      <td>Electric_guitar,Guitar,Plucked_string_instrume...</td>\n",
       "      <td>(/m/02sgy, /m/0342h, /m/0fx80y, /m/04szw, /m/0...</td>\n",
       "      <td>train</td>\n",
       "      <td>[0, 0, 0, 0, 0, 0, 0, 0, 0, 0, 0, 0, 0, 0, 0, ...</td>\n",
       "    </tr>\n",
       "    <tr>\n",
       "      <th>2</th>\n",
       "      <td>16401</td>\n",
       "      <td>Electric_guitar,Guitar,Plucked_string_instrume...</td>\n",
       "      <td>(/m/02sgy, /m/0342h, /m/0fx80y, /m/04szw, /m/0...</td>\n",
       "      <td>train</td>\n",
       "      <td>[0, 0, 0, 0, 0, 0, 0, 0, 0, 0, 0, 0, 0, 0, 0, ...</td>\n",
       "    </tr>\n",
       "    <tr>\n",
       "      <th>3</th>\n",
       "      <td>16402</td>\n",
       "      <td>Electric_guitar,Guitar,Plucked_string_instrume...</td>\n",
       "      <td>(/m/02sgy, /m/0342h, /m/0fx80y, /m/04szw, /m/0...</td>\n",
       "      <td>train</td>\n",
       "      <td>[0, 0, 0, 0, 0, 0, 0, 0, 0, 0, 0, 0, 0, 0, 0, ...</td>\n",
       "    </tr>\n",
       "    <tr>\n",
       "      <th>4</th>\n",
       "      <td>16404</td>\n",
       "      <td>Electric_guitar,Guitar,Plucked_string_instrume...</td>\n",
       "      <td>(/m/02sgy, /m/0342h, /m/0fx80y, /m/04szw, /m/0...</td>\n",
       "      <td>train</td>\n",
       "      <td>[0, 0, 0, 0, 0, 0, 0, 0, 0, 0, 0, 0, 0, 0, 0, ...</td>\n",
       "    </tr>\n",
       "  </tbody>\n",
       "</table>\n",
       "</div>"
      ],
      "text/plain": [
       "   fname                                             labels  \\\n",
       "0  64760  Electric_guitar,Guitar,Plucked_string_instrume...   \n",
       "1  16399  Electric_guitar,Guitar,Plucked_string_instrume...   \n",
       "2  16401  Electric_guitar,Guitar,Plucked_string_instrume...   \n",
       "3  16402  Electric_guitar,Guitar,Plucked_string_instrume...   \n",
       "4  16404  Electric_guitar,Guitar,Plucked_string_instrume...   \n",
       "\n",
       "                                                mids  split  \\\n",
       "0  (/m/02sgy, /m/0342h, /m/0fx80y, /m/04szw, /m/0...  train   \n",
       "1  (/m/02sgy, /m/0342h, /m/0fx80y, /m/04szw, /m/0...  train   \n",
       "2  (/m/02sgy, /m/0342h, /m/0fx80y, /m/04szw, /m/0...  train   \n",
       "3  (/m/02sgy, /m/0342h, /m/0fx80y, /m/04szw, /m/0...  train   \n",
       "4  (/m/02sgy, /m/0342h, /m/0fx80y, /m/04szw, /m/0...  train   \n",
       "\n",
       "                                          output_vec  \n",
       "0  [0, 0, 0, 0, 0, 0, 0, 0, 0, 0, 0, 0, 0, 0, 0, ...  \n",
       "1  [0, 0, 0, 0, 0, 0, 0, 0, 0, 0, 0, 0, 0, 0, 0, ...  \n",
       "2  [0, 0, 0, 0, 0, 0, 0, 0, 0, 0, 0, 0, 0, 0, 0, ...  \n",
       "3  [0, 0, 0, 0, 0, 0, 0, 0, 0, 0, 0, 0, 0, 0, 0, ...  \n",
       "4  [0, 0, 0, 0, 0, 0, 0, 0, 0, 0, 0, 0, 0, 0, 0, ...  "
      ]
     },
     "execution_count": 3,
     "metadata": {},
     "output_type": "execute_result"
    }
   ],
   "source": [
    "train_df.head()"
   ]
  },
  {
   "cell_type": "code",
   "execution_count": 9,
   "id": "66ae3ab1-e9f4-4f9b-885f-6acb43a86c87",
   "metadata": {},
   "outputs": [
    {
     "data": {
      "text/plain": [
       "1.5573242630385487"
      ]
     },
     "execution_count": 9,
     "metadata": {},
     "output_type": "execute_result"
    }
   ],
   "source": [
    "def get_length(fname, ROOT):\n",
    "    data, sample_rate = librosa.load(ROOT+fname+'.wav', sr = None)\n",
    "    return (len(data)/sample_rate)"
   ]
  },
  {
   "cell_type": "code",
   "execution_count": null,
   "id": "4e6e9e47-4a0b-4bd6-a664-726b2c09abfe",
   "metadata": {},
   "outputs": [
    {
     "name": "stderr",
     "output_type": "stream",
     "text": [
      "C:\\Users\\simma\\AppData\\Local\\Temp\\ipykernel_1816\\2466011646.py:1: SettingWithCopyWarning: \n",
      "A value is trying to be set on a copy of a slice from a DataFrame.\n",
      "Try using .loc[row_indexer,col_indexer] = value instead\n",
      "\n",
      "See the caveats in the documentation: https://pandas.pydata.org/pandas-docs/stable/user_guide/indexing.html#returning-a-view-versus-a-copy\n",
      "  train_df['length'] = train_df['fname'].apply(lambda x: get_length(x,DEV_ROOT))\n",
      "C:\\Users\\simma\\AppData\\Local\\Temp\\ipykernel_1816\\2466011646.py:2: SettingWithCopyWarning: \n",
      "A value is trying to be set on a copy of a slice from a DataFrame.\n",
      "Try using .loc[row_indexer,col_indexer] = value instead\n",
      "\n",
      "See the caveats in the documentation: https://pandas.pydata.org/pandas-docs/stable/user_guide/indexing.html#returning-a-view-versus-a-copy\n",
      "  val_df['length'] = val_df['fname'].apply(lambda x: get_length(x,DEV_ROOT))\n"
     ]
    }
   ],
   "source": [
    "train_df['length'] = train_df['fname'].apply(lambda x: get_length(x,DEV_ROOT))\n",
    "val_df['length'] = val_df['fname'].apply(lambda x: get_length(x,DEV_ROOT))\n",
    "test_df['length'] = test_df['fname'].apply(lambda x: get_length(x,TEST_ROOT))"
   ]
  },
  {
   "cell_type": "code",
   "execution_count": 87,
   "id": "bd0c0d8d-5ee5-4137-864e-9cbe25f94ea4",
   "metadata": {},
   "outputs": [],
   "source": [
    "train_df['out_vec_len'] = train_df['output_vec'].apply(lambda x: x.count(1))\n",
    "val_df['out_vec_len'] = val_df['output_vec'].apply(lambda x: x.count(1))\n",
    "test_df['out_vec_len'] = test_df['output_vec'].apply(lambda x: x.count(1))"
   ]
  },
  {
   "cell_type": "code",
   "execution_count": 81,
   "id": "c2c2dd37-8a76-4f90-ace2-148e5ca0702c",
   "metadata": {},
   "outputs": [],
   "source": [
    "train_df.to_pickle('./Data/temp/train_df.pkl')\n",
    "val_df.to_pickle('./Data/temp/val_df.pkl')\n",
    "test_df.to_pickle('./Data/temp/test_df.pkl')"
   ]
  },
  {
   "cell_type": "code",
   "execution_count": 82,
   "id": "7717c2ac-5d9a-4ef6-bc91-980957f72bb5",
   "metadata": {},
   "outputs": [],
   "source": [
    "train_df = pd.read_pickle('./Data/temp/train_df.pkl')  \n",
    "val_df = pd.read_pickle('./Data/temp/val_df.pkl')  \n",
    "test_df = pd.read_pickle('./Data/temp/test_df.pkl')  "
   ]
  },
  {
   "cell_type": "code",
   "execution_count": 83,
   "id": "b397a2b4-2ea2-40fd-9244-d5b0f97185ef",
   "metadata": {},
   "outputs": [
    {
     "data": {
      "text/plain": [
       "(4170, 6)"
      ]
     },
     "execution_count": 83,
     "metadata": {},
     "output_type": "execute_result"
    }
   ],
   "source": [
    "val_df.shape"
   ]
  },
  {
   "cell_type": "code",
   "execution_count": 102,
   "id": "cf9ef483-bbb7-4c82-b9e8-57c651085da5",
   "metadata": {},
   "outputs": [
    {
     "data": {
      "text/plain": [
       "Text(0.5, 1.0, 'Number of files and their duration')"
      ]
     },
     "execution_count": 102,
     "metadata": {},
     "output_type": "execute_result"
    },
    {
     "data": {
      "image/png": "[encoded data removed]",
      "text/plain": [
       "<Figure size 720x504 with 1 Axes>"
      ]
     },
     "metadata": {
      "needs_background": "light"
     },
     "output_type": "display_data"
    }
   ],
   "source": [
    "plt.figure(figsize=(10,7),edgecolor='blue')\n",
    "plt.hist(train_df['length'], bins=np.arange(20)-0.5,range=(0,40),ec=\"black\");\n",
    "plt.xticks(range(20),range(0,40,2))\n",
    "plt.xlabel('Audio length [Seconds]')\n",
    "plt.ylabel('Number of files')\n",
    "plt.title('Number of files and their duration')"
   ]
  },
  {
   "cell_type": "code",
   "execution_count": 103,
   "id": "33e143b4-1370-45eb-8e76-4450f0c9251f",
   "metadata": {},
   "outputs": [
    {
     "data": {
      "text/plain": [
       "Text(0.5, 1.0, 'Number of files and their duration')"
      ]
     },
     "execution_count": 103,
     "metadata": {},
     "output_type": "execute_result"
    },
    {
     "data": {
      "image/png": "[encoded data removed]",
      "text/plain": [
       "<Figure size 720x504 with 1 Axes>"
      ]
     },
     "metadata": {
      "needs_background": "light"
     },
     "output_type": "display_data"
    }
   ],
   "source": [
    "plt.figure(figsize=(10,7),edgecolor='blue')\n",
    "plt.hist(val_df['length'], bins=np.arange(20)-0.5, range=(0,40),ec=\"black\");\n",
    "plt.xticks(range(20),range(0,40,2))\n",
    "plt.xlabel('Audio length [Seconds]')\n",
    "plt.ylabel('Number of files')\n",
    "plt.title('Number of files and their duration')"
   ]
  },
  {
   "cell_type": "code",
   "execution_count": 104,
   "id": "7e832b45-ab81-4ec4-ad28-7fe1b0227f2b",
   "metadata": {},
   "outputs": [
    {
     "data": {
      "text/plain": [
       "Text(0.5, 1.0, 'Number of files and their duration')"
      ]
     },
     "execution_count": 104,
     "metadata": {},
     "output_type": "execute_result"
    },
    {
     "data": {
      "image/png": "[encoded data removed]",
      "text/plain": [
       "<Figure size 720x504 with 1 Axes>"
      ]
     },
     "metadata": {
      "needs_background": "light"
     },
     "output_type": "display_data"
    }
   ],
   "source": [
    "plt.figure(figsize=(10,7),edgecolor='blue')\n",
    "plt.hist(test_df['length'], bins=np.arange(20)-0.5, range=(0,40),ec=\"black\");\n",
    "plt.xticks(range(20),range(0,40,2))\n",
    "plt.xlabel('Audio length [Seconds]')\n",
    "plt.ylabel('Number of files')\n",
    "plt.title('Number of files and their duration')"
   ]
  },
  {
   "cell_type": "code",
   "execution_count": 88,
   "id": "d304c62d-3ae6-4afa-b0c4-b0cf75532187",
   "metadata": {},
   "outputs": [
    {
     "data": {
      "text/html": [
       "<div>\n",
       "<style scoped>\n",
       "    .dataframe tbody tr th:only-of-type {\n",
       "        vertical-align: middle;\n",
       "    }\n",
       "\n",
       "    .dataframe tbody tr th {\n",
       "        vertical-align: top;\n",
       "    }\n",
       "\n",
       "    .dataframe thead th {\n",
       "        text-align: right;\n",
       "    }\n",
       "</style>\n",
       "<table border=\"1\" class=\"dataframe\">\n",
       "  <thead>\n",
       "    <tr style=\"text-align: right;\">\n",
       "      <th></th>\n",
       "      <th>fname</th>\n",
       "      <th>labels</th>\n",
       "      <th>mids</th>\n",
       "      <th>split</th>\n",
       "      <th>output_vec</th>\n",
       "      <th>length</th>\n",
       "      <th>out_vec_len</th>\n",
       "    </tr>\n",
       "  </thead>\n",
       "  <tbody>\n",
       "    <tr>\n",
       "      <th>5</th>\n",
       "      <td>345111</td>\n",
       "      <td>Electric_guitar,Guitar,Plucked_string_instrume...</td>\n",
       "      <td>(/m/02sgy, /m/0342h, /m/0fx80y, /m/04szw, /m/0...</td>\n",
       "      <td>val</td>\n",
       "      <td>[0, 0, 0, 0, 0, 0, 0, 0, 0, 0, 0, 0, 0, 0, 0, ...</td>\n",
       "      <td>9.340590</td>\n",
       "      <td>5</td>\n",
       "    </tr>\n",
       "    <tr>\n",
       "      <th>9</th>\n",
       "      <td>160826</td>\n",
       "      <td>Electric_guitar,Guitar,Plucked_string_instrume...</td>\n",
       "      <td>(/m/02sgy, /m/0342h, /m/0fx80y, /m/04szw, /m/0...</td>\n",
       "      <td>val</td>\n",
       "      <td>[0, 0, 0, 0, 0, 0, 0, 0, 0, 0, 0, 0, 0, 0, 0, ...</td>\n",
       "      <td>6.801814</td>\n",
       "      <td>5</td>\n",
       "    </tr>\n",
       "    <tr>\n",
       "      <th>13</th>\n",
       "      <td>420945</td>\n",
       "      <td>Electric_guitar,Guitar,Plucked_string_instrume...</td>\n",
       "      <td>(/m/02sgy, /m/0342h, /m/0fx80y, /m/04szw, /m/0...</td>\n",
       "      <td>val</td>\n",
       "      <td>[0, 0, 0, 0, 0, 0, 0, 0, 0, 0, 0, 0, 0, 0, 0, ...</td>\n",
       "      <td>8.000000</td>\n",
       "      <td>5</td>\n",
       "    </tr>\n",
       "    <tr>\n",
       "      <th>14</th>\n",
       "      <td>420946</td>\n",
       "      <td>Electric_guitar,Guitar,Plucked_string_instrume...</td>\n",
       "      <td>(/m/02sgy, /m/0342h, /m/0fx80y, /m/04szw, /m/0...</td>\n",
       "      <td>val</td>\n",
       "      <td>[0, 0, 0, 0, 0, 0, 0, 0, 0, 0, 0, 0, 0, 0, 0, ...</td>\n",
       "      <td>8.727279</td>\n",
       "      <td>5</td>\n",
       "    </tr>\n",
       "    <tr>\n",
       "      <th>15</th>\n",
       "      <td>420947</td>\n",
       "      <td>Electric_guitar,Guitar,Plucked_string_instrume...</td>\n",
       "      <td>(/m/02sgy, /m/0342h, /m/0fx80y, /m/04szw, /m/0...</td>\n",
       "      <td>val</td>\n",
       "      <td>[0, 0, 0, 0, 0, 0, 0, 0, 0, 0, 0, 0, 0, 0, 0, ...</td>\n",
       "      <td>4.571429</td>\n",
       "      <td>5</td>\n",
       "    </tr>\n",
       "    <tr>\n",
       "      <th>...</th>\n",
       "      <td>...</td>\n",
       "      <td>...</td>\n",
       "      <td>...</td>\n",
       "      <td>...</td>\n",
       "      <td>...</td>\n",
       "      <td>...</td>\n",
       "      <td>...</td>\n",
       "    </tr>\n",
       "    <tr>\n",
       "      <th>40883</th>\n",
       "      <td>362959</td>\n",
       "      <td>Livestock_and_farm_animals_and_working_animals...</td>\n",
       "      <td>(/m/0ch8v, /m/0jbk)</td>\n",
       "      <td>val</td>\n",
       "      <td>[0, 0, 0, 0, 0, 0, 0, 0, 0, 0, 0, 0, 0, 0, 0, ...</td>\n",
       "      <td>21.514603</td>\n",
       "      <td>2</td>\n",
       "    </tr>\n",
       "    <tr>\n",
       "      <th>40885</th>\n",
       "      <td>32727</td>\n",
       "      <td>Livestock_and_farm_animals_and_working_animals...</td>\n",
       "      <td>(/m/0ch8v, /m/0jbk)</td>\n",
       "      <td>val</td>\n",
       "      <td>[0, 0, 0, 0, 0, 0, 0, 0, 0, 0, 0, 0, 0, 0, 0, ...</td>\n",
       "      <td>10.506757</td>\n",
       "      <td>2</td>\n",
       "    </tr>\n",
       "    <tr>\n",
       "      <th>40886</th>\n",
       "      <td>322522</td>\n",
       "      <td>Livestock_and_farm_animals_and_working_animals...</td>\n",
       "      <td>(/m/0ch8v, /m/0jbk)</td>\n",
       "      <td>val</td>\n",
       "      <td>[0, 0, 0, 0, 0, 0, 0, 0, 0, 0, 0, 0, 0, 0, 0, ...</td>\n",
       "      <td>3.018526</td>\n",
       "      <td>2</td>\n",
       "    </tr>\n",
       "    <tr>\n",
       "      <th>40897</th>\n",
       "      <td>17909</td>\n",
       "      <td>Livestock_and_farm_animals_and_working_animals...</td>\n",
       "      <td>(/m/0ch8v, /m/0jbk)</td>\n",
       "      <td>val</td>\n",
       "      <td>[0, 0, 0, 0, 0, 0, 0, 0, 0, 0, 0, 0, 0, 0, 0, ...</td>\n",
       "      <td>20.864490</td>\n",
       "      <td>2</td>\n",
       "    </tr>\n",
       "    <tr>\n",
       "      <th>40898</th>\n",
       "      <td>191990</td>\n",
       "      <td>Livestock_and_farm_animals_and_working_animals...</td>\n",
       "      <td>(/m/0ch8v, /m/0jbk)</td>\n",
       "      <td>val</td>\n",
       "      <td>[0, 0, 0, 0, 0, 0, 0, 0, 0, 0, 0, 0, 0, 0, 0, ...</td>\n",
       "      <td>17.500000</td>\n",
       "      <td>2</td>\n",
       "    </tr>\n",
       "  </tbody>\n",
       "</table>\n",
       "<p>4170 rows × 7 columns</p>\n",
       "</div>"
      ],
      "text/plain": [
       "        fname                                             labels  \\\n",
       "5      345111  Electric_guitar,Guitar,Plucked_string_instrume...   \n",
       "9      160826  Electric_guitar,Guitar,Plucked_string_instrume...   \n",
       "13     420945  Electric_guitar,Guitar,Plucked_string_instrume...   \n",
       "14     420946  Electric_guitar,Guitar,Plucked_string_instrume...   \n",
       "15     420947  Electric_guitar,Guitar,Plucked_string_instrume...   \n",
       "...       ...                                                ...   \n",
       "40883  362959  Livestock_and_farm_animals_and_working_animals...   \n",
       "40885   32727  Livestock_and_farm_animals_and_working_animals...   \n",
       "40886  322522  Livestock_and_farm_animals_and_working_animals...   \n",
       "40897   17909  Livestock_and_farm_animals_and_working_animals...   \n",
       "40898  191990  Livestock_and_farm_animals_and_working_animals...   \n",
       "\n",
       "                                                    mids split  \\\n",
       "5      (/m/02sgy, /m/0342h, /m/0fx80y, /m/04szw, /m/0...   val   \n",
       "9      (/m/02sgy, /m/0342h, /m/0fx80y, /m/04szw, /m/0...   val   \n",
       "13     (/m/02sgy, /m/0342h, /m/0fx80y, /m/04szw, /m/0...   val   \n",
       "14     (/m/02sgy, /m/0342h, /m/0fx80y, /m/04szw, /m/0...   val   \n",
       "15     (/m/02sgy, /m/0342h, /m/0fx80y, /m/04szw, /m/0...   val   \n",
       "...                                                  ...   ...   \n",
       "40883                                (/m/0ch8v, /m/0jbk)   val   \n",
       "40885                                (/m/0ch8v, /m/0jbk)   val   \n",
       "40886                                (/m/0ch8v, /m/0jbk)   val   \n",
       "40897                                (/m/0ch8v, /m/0jbk)   val   \n",
       "40898                                (/m/0ch8v, /m/0jbk)   val   \n",
       "\n",
       "                                              output_vec     length  \\\n",
       "5      [0, 0, 0, 0, 0, 0, 0, 0, 0, 0, 0, 0, 0, 0, 0, ...   9.340590   \n",
       "9      [0, 0, 0, 0, 0, 0, 0, 0, 0, 0, 0, 0, 0, 0, 0, ...   6.801814   \n",
       "13     [0, 0, 0, 0, 0, 0, 0, 0, 0, 0, 0, 0, 0, 0, 0, ...   8.000000   \n",
       "14     [0, 0, 0, 0, 0, 0, 0, 0, 0, 0, 0, 0, 0, 0, 0, ...   8.727279   \n",
       "15     [0, 0, 0, 0, 0, 0, 0, 0, 0, 0, 0, 0, 0, 0, 0, ...   4.571429   \n",
       "...                                                  ...        ...   \n",
       "40883  [0, 0, 0, 0, 0, 0, 0, 0, 0, 0, 0, 0, 0, 0, 0, ...  21.514603   \n",
       "40885  [0, 0, 0, 0, 0, 0, 0, 0, 0, 0, 0, 0, 0, 0, 0, ...  10.506757   \n",
       "40886  [0, 0, 0, 0, 0, 0, 0, 0, 0, 0, 0, 0, 0, 0, 0, ...   3.018526   \n",
       "40897  [0, 0, 0, 0, 0, 0, 0, 0, 0, 0, 0, 0, 0, 0, 0, ...  20.864490   \n",
       "40898  [0, 0, 0, 0, 0, 0, 0, 0, 0, 0, 0, 0, 0, 0, 0, ...  17.500000   \n",
       "\n",
       "       out_vec_len  \n",
       "5                5  \n",
       "9                5  \n",
       "13               5  \n",
       "14               5  \n",
       "15               5  \n",
       "...            ...  \n",
       "40883            2  \n",
       "40885            2  \n",
       "40886            2  \n",
       "40897            2  \n",
       "40898            2  \n",
       "\n",
       "[4170 rows x 7 columns]"
      ]
     },
     "execution_count": 88,
     "metadata": {},
     "output_type": "execute_result"
    }
   ],
   "source": [
    "val_df"
   ]
  },
  {
   "cell_type": "code",
   "execution_count": 106,
   "id": "8b89f2f8-2110-4009-9c83-da2de527bd32",
   "metadata": {},
   "outputs": [
    {
     "data": {
      "text/plain": [
       "Text(0.5, 1.0, 'Number of files and count of labels associated with them')"
      ]
     },
     "execution_count": 106,
     "metadata": {},
     "output_type": "execute_result"
    },
    {
     "data": {
      "image/png": "[encoded data removed]",
      "text/plain": [
       "<Figure size 720x504 with 1 Axes>"
      ]
     },
     "metadata": {
      "needs_background": "light"
     },
     "output_type": "display_data"
    }
   ],
   "source": [
    "plt.figure(figsize=(10,7),edgecolor='blue')\n",
    "plt.hist(train_df['out_vec_len'], bins=np.arange(10)-0.5,range=(0,10),ec=\"black\");\n",
    "plt.xticks(range(10),range(0,10))\n",
    "plt.xlabel('Number of Labels')\n",
    "plt.ylabel('Number of files')\n",
    "plt.title('Number of files and count of labels associated with them')"
   ]
  },
  {
   "cell_type": "code",
   "execution_count": 105,
   "id": "f61ae252-7283-4e20-a8ff-22528f213ac1",
   "metadata": {},
   "outputs": [
    {
     "data": {
      "text/plain": [
       "Text(0.5, 1.0, 'Number of files and count of labels associated with them')"
      ]
     },
     "execution_count": 105,
     "metadata": {},
     "output_type": "execute_result"
    },
    {
     "data": {
      "image/png": "[encoded data removed]",
      "text/plain": [
       "<Figure size 720x504 with 1 Axes>"
      ]
     },
     "metadata": {
      "needs_background": "light"
     },
     "output_type": "display_data"
    }
   ],
   "source": [
    "plt.figure(figsize=(10,7),edgecolor='blue')\n",
    "plt.hist(val_df['out_vec_len'], bins=np.arange(10)-0.5,range=(0,10),ec=\"black\");\n",
    "plt.xticks(range(10),range(0,10))\n",
    "plt.xlabel('Number of Labels')\n",
    "plt.ylabel('Number of files')\n",
    "plt.title('Number of files and count of labels associated with them')"
   ]
  },
  {
   "cell_type": "code",
   "execution_count": 107,
   "id": "b951db55-25cf-45ae-b8ef-a44893ba26b8",
   "metadata": {},
   "outputs": [
    {
     "data": {
      "text/plain": [
       "Text(0.5, 1.0, 'Number of files and count of labels associated with them')"
      ]
     },
     "execution_count": 107,
     "metadata": {},
     "output_type": "execute_result"
    },
    {
     "data": {
      "image/png": "[encoded data removed]",
      "text/plain": [
       "<Figure size 720x504 with 1 Axes>"
      ]
     },
     "metadata": {
      "needs_background": "light"
     },
     "output_type": "display_data"
    }
   ],
   "source": [
    "plt.figure(figsize=(10,7),edgecolor='blue')\n",
    "plt.hist(test_df['out_vec_len'], bins=np.arange(10)-0.5,range=(0,10),ec=\"black\");\n",
    "plt.xticks(range(10),range(0,10))\n",
    "plt.xlabel('Number of Labels')\n",
    "plt.ylabel('Number of files')\n",
    "plt.title('Number of files and count of labels associated with them')"
   ]
  },
  {
   "cell_type": "code",
   "execution_count": null,
   "id": "2b417c3d-a71e-4319-bd1a-dd6f28a33fc7",
   "metadata": {},
   "outputs": [],
   "source": []
  }
 ],
 "metadata": {
  "kernelspec": {
   "display_name": "Python 3 (ipykernel)",
   "language": "python",
   "name": "python3"
  },
  "language_info": {
   "codemirror_mode": {
    "name": "ipython",
    "version": 3
   },
   "file_extension": ".py",
   "mimetype": "text/x-python",
   "name": "python",
   "nbconvert_exporter": "python",
   "pygments_lexer": "ipython3",
   "version": "3.10.2"
  }
 },
 "nbformat": 4,
 "nbformat_minor": 5
}
