{
 "cells": [
  {
   "cell_type": "code",
   "execution_count": 1,
   "id": "5dcdf902-1351-4d58-b439-04687c65f840",
   "metadata": {},
   "outputs": [],
   "source": [
    "import numpy as np\n",
    "import pandas as pd\n",
    "import librosa\n",
    "import librosa.display\n",
    "import matplotlib.pyplot as plt\n",
    "import IPython.display as ipd\n",
    "\n",
    "# from keras.models import Sequential\n",
    "# from keras.layers import Dense\n",
    "from sklearn.preprocessing import MultiLabelBinarizer\n",
    "# from sklearn.model_selection import RepeatedKFold\n",
    "# from sklearn.metrics import accuracy_score\n",
    "\n",
    "import soundfile as sf\n",
    "# from tqdm import tqdm\n",
    "import os\n"
   ]
  },
  {
   "cell_type": "code",
   "execution_count": 2,
   "id": "6791da5c-2a8c-4f41-8baa-ecf49c21df69",
   "metadata": {},
   "outputs": [],
   "source": [
    "DEV_ROOT = './Data/FSD50K.dev_audio/'\n",
    "TEST_ROOT = './Data/FSD50K.eval_audio/'\n",
    "\n",
    "raw_dev_df = pd.read_csv('./Data/FSD50K.ground_truth/dev.csv', dtype={'fname': 'string'})\n",
    "\n",
    "test_df = pd.read_csv('./Data/FSD50K.ground_truth/eval.csv', dtype={'fname': 'string'})\n",
    "vocab_df = pd.read_csv('./Data/FSD50K.ground_truth/vocabulary.csv', index_col=0, header=None, names=['label','mids'])\n",
    "vocab_dict = dict(zip(vocab_df.mids, vocab_df.label))"
   ]
  },
  {
   "cell_type": "code",
   "execution_count": 3,
   "id": "e7b0e9e6-ceef-42a3-bc2a-9111a372675f",
   "metadata": {},
   "outputs": [
    {
     "data": {
      "text/html": [
       "<div>\n",
       "<style scoped>\n",
       "    .dataframe tbody tr th:only-of-type {\n",
       "        vertical-align: middle;\n",
       "    }\n",
       "\n",
       "    .dataframe tbody tr th {\n",
       "        vertical-align: top;\n",
       "    }\n",
       "\n",
       "    .dataframe thead th {\n",
       "        text-align: right;\n",
       "    }\n",
       "</style>\n",
       "<table border=\"1\" class=\"dataframe\">\n",
       "  <thead>\n",
       "    <tr style=\"text-align: right;\">\n",
       "      <th></th>\n",
       "      <th>fname</th>\n",
       "      <th>labels</th>\n",
       "      <th>mids</th>\n",
       "      <th>split</th>\n",
       "    </tr>\n",
       "  </thead>\n",
       "  <tbody>\n",
       "    <tr>\n",
       "      <th>0</th>\n",
       "      <td>64760</td>\n",
       "      <td>Electric_guitar,Guitar,Plucked_string_instrume...</td>\n",
       "      <td>/m/02sgy,/m/0342h,/m/0fx80y,/m/04szw,/m/04rlf</td>\n",
       "      <td>train</td>\n",
       "    </tr>\n",
       "    <tr>\n",
       "      <th>1</th>\n",
       "      <td>16399</td>\n",
       "      <td>Electric_guitar,Guitar,Plucked_string_instrume...</td>\n",
       "      <td>/m/02sgy,/m/0342h,/m/0fx80y,/m/04szw,/m/04rlf</td>\n",
       "      <td>train</td>\n",
       "    </tr>\n",
       "    <tr>\n",
       "      <th>2</th>\n",
       "      <td>16401</td>\n",
       "      <td>Electric_guitar,Guitar,Plucked_string_instrume...</td>\n",
       "      <td>/m/02sgy,/m/0342h,/m/0fx80y,/m/04szw,/m/04rlf</td>\n",
       "      <td>train</td>\n",
       "    </tr>\n",
       "    <tr>\n",
       "      <th>3</th>\n",
       "      <td>16402</td>\n",
       "      <td>Electric_guitar,Guitar,Plucked_string_instrume...</td>\n",
       "      <td>/m/02sgy,/m/0342h,/m/0fx80y,/m/04szw,/m/04rlf</td>\n",
       "      <td>train</td>\n",
       "    </tr>\n",
       "    <tr>\n",
       "      <th>4</th>\n",
       "      <td>16404</td>\n",
       "      <td>Electric_guitar,Guitar,Plucked_string_instrume...</td>\n",
       "      <td>/m/02sgy,/m/0342h,/m/0fx80y,/m/04szw,/m/04rlf</td>\n",
       "      <td>train</td>\n",
       "    </tr>\n",
       "  </tbody>\n",
       "</table>\n",
       "</div>"
      ],
      "text/plain": [
       "   fname                                             labels  \\\n",
       "0  64760  Electric_guitar,Guitar,Plucked_string_instrume...   \n",
       "1  16399  Electric_guitar,Guitar,Plucked_string_instrume...   \n",
       "2  16401  Electric_guitar,Guitar,Plucked_string_instrume...   \n",
       "3  16402  Electric_guitar,Guitar,Plucked_string_instrume...   \n",
       "4  16404  Electric_guitar,Guitar,Plucked_string_instrume...   \n",
       "\n",
       "                                            mids  split  \n",
       "0  /m/02sgy,/m/0342h,/m/0fx80y,/m/04szw,/m/04rlf  train  \n",
       "1  /m/02sgy,/m/0342h,/m/0fx80y,/m/04szw,/m/04rlf  train  \n",
       "2  /m/02sgy,/m/0342h,/m/0fx80y,/m/04szw,/m/04rlf  train  \n",
       "3  /m/02sgy,/m/0342h,/m/0fx80y,/m/04szw,/m/04rlf  train  \n",
       "4  /m/02sgy,/m/0342h,/m/0fx80y,/m/04szw,/m/04rlf  train  "
      ]
     },
     "execution_count": 3,
     "metadata": {},
     "output_type": "execute_result"
    }
   ],
   "source": [
    "raw_dev_df.head()"
   ]
  },
  {
   "cell_type": "code",
   "execution_count": 4,
   "id": "299933c8-65b1-41e3-849f-96b2ce05dd6d",
   "metadata": {},
   "outputs": [],
   "source": [
    "raw_dev_df['mids'] = raw_dev_df['mids'].apply(lambda x: tuple(x.split(',')))\n",
    "test_df['mids'] = test_df['mids'].apply(lambda x: tuple(x.split(',')))"
   ]
  },
  {
   "cell_type": "code",
   "execution_count": 5,
   "id": "ee4437bd-c603-4254-b0a9-9efd19a39be0",
   "metadata": {},
   "outputs": [],
   "source": [
    "one_hot_encoder = MultiLabelBinarizer()\n",
    "one_hot_encoder.fit(raw_dev_df['mids'])\n",
    "output_vec = one_hot_encoder.transform(raw_dev_df['mids'])\n",
    "raw_dev_df['output_vec'] = output_vec.tolist()\n",
    "output_vec = one_hot_encoder.transform(test_df['mids'])\n",
    "test_df['output_vec'] = output_vec.tolist()"
   ]
  },
  {
   "cell_type": "code",
   "execution_count": 6,
   "id": "288c9742-6f92-4ef0-abfb-4278bfddb2f2",
   "metadata": {},
   "outputs": [
    {
     "data": {
      "text/plain": [
       "200"
      ]
     },
     "execution_count": 6,
     "metadata": {},
     "output_type": "execute_result"
    }
   ],
   "source": [
    "len(raw_dev_df.output_vec[0])"
   ]
  },
  {
   "cell_type": "code",
   "execution_count": 7,
   "id": "cd30f611-1774-4eec-b3bb-c8597edfb86c",
   "metadata": {},
   "outputs": [
    {
     "data": {
      "text/html": [
       "<div>\n",
       "<style scoped>\n",
       "    .dataframe tbody tr th:only-of-type {\n",
       "        vertical-align: middle;\n",
       "    }\n",
       "\n",
       "    .dataframe tbody tr th {\n",
       "        vertical-align: top;\n",
       "    }\n",
       "\n",
       "    .dataframe thead th {\n",
       "        text-align: right;\n",
       "    }\n",
       "</style>\n",
       "<table border=\"1\" class=\"dataframe\">\n",
       "  <thead>\n",
       "    <tr style=\"text-align: right;\">\n",
       "      <th></th>\n",
       "      <th>fname</th>\n",
       "      <th>labels</th>\n",
       "      <th>mids</th>\n",
       "      <th>split</th>\n",
       "      <th>output_vec</th>\n",
       "    </tr>\n",
       "  </thead>\n",
       "  <tbody>\n",
       "    <tr>\n",
       "      <th>0</th>\n",
       "      <td>64760</td>\n",
       "      <td>Electric_guitar,Guitar,Plucked_string_instrume...</td>\n",
       "      <td>(/m/02sgy, /m/0342h, /m/0fx80y, /m/04szw, /m/0...</td>\n",
       "      <td>train</td>\n",
       "      <td>[0, 0, 0, 0, 0, 0, 0, 0, 0, 0, 0, 0, 0, 0, 0, ...</td>\n",
       "    </tr>\n",
       "    <tr>\n",
       "      <th>1</th>\n",
       "      <td>16399</td>\n",
       "      <td>Electric_guitar,Guitar,Plucked_string_instrume...</td>\n",
       "      <td>(/m/02sgy, /m/0342h, /m/0fx80y, /m/04szw, /m/0...</td>\n",
       "      <td>train</td>\n",
       "      <td>[0, 0, 0, 0, 0, 0, 0, 0, 0, 0, 0, 0, 0, 0, 0, ...</td>\n",
       "    </tr>\n",
       "    <tr>\n",
       "      <th>2</th>\n",
       "      <td>16401</td>\n",
       "      <td>Electric_guitar,Guitar,Plucked_string_instrume...</td>\n",
       "      <td>(/m/02sgy, /m/0342h, /m/0fx80y, /m/04szw, /m/0...</td>\n",
       "      <td>train</td>\n",
       "      <td>[0, 0, 0, 0, 0, 0, 0, 0, 0, 0, 0, 0, 0, 0, 0, ...</td>\n",
       "    </tr>\n",
       "    <tr>\n",
       "      <th>3</th>\n",
       "      <td>16402</td>\n",
       "      <td>Electric_guitar,Guitar,Plucked_string_instrume...</td>\n",
       "      <td>(/m/02sgy, /m/0342h, /m/0fx80y, /m/04szw, /m/0...</td>\n",
       "      <td>train</td>\n",
       "      <td>[0, 0, 0, 0, 0, 0, 0, 0, 0, 0, 0, 0, 0, 0, 0, ...</td>\n",
       "    </tr>\n",
       "    <tr>\n",
       "      <th>4</th>\n",
       "      <td>16404</td>\n",
       "      <td>Electric_guitar,Guitar,Plucked_string_instrume...</td>\n",
       "      <td>(/m/02sgy, /m/0342h, /m/0fx80y, /m/04szw, /m/0...</td>\n",
       "      <td>train</td>\n",
       "      <td>[0, 0, 0, 0, 0, 0, 0, 0, 0, 0, 0, 0, 0, 0, 0, ...</td>\n",
       "    </tr>\n",
       "    <tr>\n",
       "      <th>...</th>\n",
       "      <td>...</td>\n",
       "      <td>...</td>\n",
       "      <td>...</td>\n",
       "      <td>...</td>\n",
       "      <td>...</td>\n",
       "    </tr>\n",
       "    <tr>\n",
       "      <th>40961</th>\n",
       "      <td>102863</td>\n",
       "      <td>Fowl,Livestock_and_farm_animals_and_working_an...</td>\n",
       "      <td>(/m/025rv6n, /m/0ch8v, /m/0jbk)</td>\n",
       "      <td>train</td>\n",
       "      <td>[0, 0, 0, 0, 0, 0, 0, 0, 0, 0, 0, 0, 0, 0, 0, ...</td>\n",
       "    </tr>\n",
       "    <tr>\n",
       "      <th>40962</th>\n",
       "      <td>389607</td>\n",
       "      <td>Fowl,Livestock_and_farm_animals_and_working_an...</td>\n",
       "      <td>(/m/025rv6n, /m/0ch8v, /m/0jbk)</td>\n",
       "      <td>train</td>\n",
       "      <td>[0, 0, 0, 0, 0, 0, 0, 0, 0, 0, 0, 0, 0, 0, 0, ...</td>\n",
       "    </tr>\n",
       "    <tr>\n",
       "      <th>40963</th>\n",
       "      <td>90091</td>\n",
       "      <td>Fowl,Livestock_and_farm_animals_and_working_an...</td>\n",
       "      <td>(/m/025rv6n, /m/0ch8v, /m/0jbk)</td>\n",
       "      <td>train</td>\n",
       "      <td>[0, 0, 0, 0, 0, 0, 0, 0, 0, 0, 0, 0, 0, 0, 0, ...</td>\n",
       "    </tr>\n",
       "    <tr>\n",
       "      <th>40964</th>\n",
       "      <td>244718</td>\n",
       "      <td>Fowl,Livestock_and_farm_animals_and_working_an...</td>\n",
       "      <td>(/m/025rv6n, /m/0ch8v, /m/0jbk)</td>\n",
       "      <td>train</td>\n",
       "      <td>[0, 0, 0, 0, 0, 0, 0, 0, 0, 0, 0, 0, 0, 0, 0, ...</td>\n",
       "    </tr>\n",
       "    <tr>\n",
       "      <th>40965</th>\n",
       "      <td>24061</td>\n",
       "      <td>Fowl,Livestock_and_farm_animals_and_working_an...</td>\n",
       "      <td>(/m/025rv6n, /m/0ch8v, /m/0jbk)</td>\n",
       "      <td>train</td>\n",
       "      <td>[0, 0, 0, 0, 0, 0, 0, 0, 0, 0, 0, 0, 0, 0, 0, ...</td>\n",
       "    </tr>\n",
       "  </tbody>\n",
       "</table>\n",
       "<p>40966 rows × 5 columns</p>\n",
       "</div>"
      ],
      "text/plain": [
       "        fname                                             labels  \\\n",
       "0       64760  Electric_guitar,Guitar,Plucked_string_instrume...   \n",
       "1       16399  Electric_guitar,Guitar,Plucked_string_instrume...   \n",
       "2       16401  Electric_guitar,Guitar,Plucked_string_instrume...   \n",
       "3       16402  Electric_guitar,Guitar,Plucked_string_instrume...   \n",
       "4       16404  Electric_guitar,Guitar,Plucked_string_instrume...   \n",
       "...       ...                                                ...   \n",
       "40961  102863  Fowl,Livestock_and_farm_animals_and_working_an...   \n",
       "40962  389607  Fowl,Livestock_and_farm_animals_and_working_an...   \n",
       "40963   90091  Fowl,Livestock_and_farm_animals_and_working_an...   \n",
       "40964  244718  Fowl,Livestock_and_farm_animals_and_working_an...   \n",
       "40965   24061  Fowl,Livestock_and_farm_animals_and_working_an...   \n",
       "\n",
       "                                                    mids  split  \\\n",
       "0      (/m/02sgy, /m/0342h, /m/0fx80y, /m/04szw, /m/0...  train   \n",
       "1      (/m/02sgy, /m/0342h, /m/0fx80y, /m/04szw, /m/0...  train   \n",
       "2      (/m/02sgy, /m/0342h, /m/0fx80y, /m/04szw, /m/0...  train   \n",
       "3      (/m/02sgy, /m/0342h, /m/0fx80y, /m/04szw, /m/0...  train   \n",
       "4      (/m/02sgy, /m/0342h, /m/0fx80y, /m/04szw, /m/0...  train   \n",
       "...                                                  ...    ...   \n",
       "40961                    (/m/025rv6n, /m/0ch8v, /m/0jbk)  train   \n",
       "40962                    (/m/025rv6n, /m/0ch8v, /m/0jbk)  train   \n",
       "40963                    (/m/025rv6n, /m/0ch8v, /m/0jbk)  train   \n",
       "40964                    (/m/025rv6n, /m/0ch8v, /m/0jbk)  train   \n",
       "40965                    (/m/025rv6n, /m/0ch8v, /m/0jbk)  train   \n",
       "\n",
       "                                              output_vec  \n",
       "0      [0, 0, 0, 0, 0, 0, 0, 0, 0, 0, 0, 0, 0, 0, 0, ...  \n",
       "1      [0, 0, 0, 0, 0, 0, 0, 0, 0, 0, 0, 0, 0, 0, 0, ...  \n",
       "2      [0, 0, 0, 0, 0, 0, 0, 0, 0, 0, 0, 0, 0, 0, 0, ...  \n",
       "3      [0, 0, 0, 0, 0, 0, 0, 0, 0, 0, 0, 0, 0, 0, 0, ...  \n",
       "4      [0, 0, 0, 0, 0, 0, 0, 0, 0, 0, 0, 0, 0, 0, 0, ...  \n",
       "...                                                  ...  \n",
       "40961  [0, 0, 0, 0, 0, 0, 0, 0, 0, 0, 0, 0, 0, 0, 0, ...  \n",
       "40962  [0, 0, 0, 0, 0, 0, 0, 0, 0, 0, 0, 0, 0, 0, 0, ...  \n",
       "40963  [0, 0, 0, 0, 0, 0, 0, 0, 0, 0, 0, 0, 0, 0, 0, ...  \n",
       "40964  [0, 0, 0, 0, 0, 0, 0, 0, 0, 0, 0, 0, 0, 0, 0, ...  \n",
       "40965  [0, 0, 0, 0, 0, 0, 0, 0, 0, 0, 0, 0, 0, 0, 0, ...  \n",
       "\n",
       "[40966 rows x 5 columns]"
      ]
     },
     "execution_count": 7,
     "metadata": {},
     "output_type": "execute_result"
    }
   ],
   "source": [
    "raw_dev_df"
   ]
  },
  {
   "cell_type": "code",
   "execution_count": 33,
   "id": "d31c11e5-9a45-40e7-ab06-004bb8bd6eee",
   "metadata": {},
   "outputs": [],
   "source": [
    "train_df = raw_dev_df[raw_dev_df['split'] == 'train']\n",
    "val_df = raw_dev_df[raw_dev_df['split'] == 'val']"
   ]
  },
  {
   "cell_type": "code",
   "execution_count": 8,
   "id": "e3410a7a-3790-42b1-807d-8f33747c5e2e",
   "metadata": {},
   "outputs": [
    {
     "data": {
      "text/plain": [
       "22050"
      ]
     },
     "execution_count": 8,
     "metadata": {},
     "output_type": "execute_result"
    }
   ],
   "source": [
    "dd = DEV_ROOT + '64760' + '.wav'\n",
    "sound_clip,sr = librosa.load(dd)\n",
    "sr"
   ]
  },
  {
   "cell_type": "code",
   "execution_count": 41,
   "id": "fa56255b-2a6b-47dd-be63-a295bf512586",
   "metadata": {},
   "outputs": [],
   "source": [
    "def replicate(data, min_clip_len):\n",
    "  if len(data) < min_clip_len:\n",
    "    tile_size = (min_clip_len // data.shape[0]) + 1\n",
    "    data = np.tile(data, tile_size)[:min_clip_len]\n",
    "  return data"
   ]
  },
  {
   "cell_type": "code",
   "execution_count": 65,
   "id": "cf53813a-7ec6-4eeb-9de1-699f861d77a2",
   "metadata": {},
   "outputs": [],
   "source": [
    "def extract_features(fname_list,output_vec_list,DIR,bands=60,frames=41):\n",
    "    def _windows(data, window_size):\n",
    "        start = 0\n",
    "        while start < len(data):\n",
    "            yield int(start), int(start + window_size)\n",
    "            start += (window_size // 2)\n",
    "            \n",
    "    window_size = 512 * (frames - 1)\n",
    "    min_clip_len = int(22050 * 1)\n",
    "    features, labels = [], []\n",
    "    for idx,file_name in enumerate(tqdm(fname_list)):\n",
    "        fn = DIR + file_name + '.wav'\n",
    "        segment_log_specgrams, segment_labels = [], []\n",
    "        sound_clip,sr = librosa.load(fn)\n",
    "        label = output_vec_list[idx]\n",
    "        if len(sound_clip) < min_clip_len:\n",
    "            sound_clip = replicate(sound_clip, min_clip_len)\n",
    "        for (start,end) in _windows(sound_clip,window_size):\n",
    "            if(len(sound_clip[start:end]) == window_size):\n",
    "                signal = sound_clip[start:end]\n",
    "                melspec = librosa.feature.melspectrogram(y=signal,n_mels=bands)\n",
    "                logspec = librosa.amplitude_to_db(melspec)\n",
    "                logspec = logspec.T.flatten()[:, np.newaxis].T\n",
    "                segment_log_specgrams.append(logspec)\n",
    "                segment_labels.append(label)\n",
    "            \n",
    "        segment_log_specgrams = np.asarray(segment_log_specgrams).reshape(\n",
    "            len(segment_log_specgrams),bands,frames,1)\n",
    "        segment_features = np.concatenate((segment_log_specgrams, np.zeros(\n",
    "            np.shape(segment_log_specgrams))), axis=3)\n",
    "        for i in range(len(segment_features)): \n",
    "            segment_features[i, :, :, 1] = librosa.feature.delta(\n",
    "                segment_features[i, :, :, 0])\n",
    "        \n",
    "        if len(segment_features) > 0: # check for empty segments \n",
    "            features.append(segment_features)\n",
    "            labels.append(segment_labels)\n",
    "    return features, labels"
   ]
  },
  {
   "cell_type": "code",
   "execution_count": 43,
   "id": "f8c5db15-441e-434f-a5fc-bcbf6a096ed0",
   "metadata": {},
   "outputs": [
    {
     "data": {
      "text/plain": [
       "['64760', '16399', '16401', '16402', '16404']"
      ]
     },
     "execution_count": 43,
     "metadata": {},
     "output_type": "execute_result"
    }
   ],
   "source": [
    "raw_dev_df['fname'][:5].to_list()"
   ]
  },
  {
   "cell_type": "code",
   "execution_count": 46,
   "id": "291a7cd7-4f8c-4eb5-b9d9-ceeb1e605c51",
   "metadata": {},
   "outputs": [],
   "source": [
    "train_df = raw_dev_df[raw_dev_df['split'] == 'train']\n",
    "val_df = raw_dev_df[raw_dev_df['split'] == 'val']"
   ]
  },
  {
   "cell_type": "code",
   "execution_count": 64,
   "id": "3b3665bf-0728-400c-9bbc-127d93641c3d",
   "metadata": {},
   "outputs": [],
   "source": [
    "from tqdm import tqdm"
   ]
  },
  {
   "cell_type": "code",
   "execution_count": 66,
   "id": "0dfe7006-fc95-4668-9d64-64a8d24cb3f0",
   "metadata": {},
   "outputs": [
    {
     "name": "stderr",
     "output_type": "stream",
     "text": [
      " 24%|███████████████████▎                                                            | 121/500 [00:15<00:50,  7.57it/s]\n"
     ]
    },
    {
     "ename": "KeyboardInterrupt",
     "evalue": "",
     "output_type": "error",
     "traceback": [
      "\u001b[1;31m---------------------------------------------------------------------------\u001b[0m",
      "\u001b[1;31mKeyboardInterrupt\u001b[0m                         Traceback (most recent call last)",
      "Input \u001b[1;32mIn [66]\u001b[0m, in \u001b[0;36m<module>\u001b[1;34m\u001b[0m\n\u001b[1;32m----> 1\u001b[0m features_tr, labels_tr \u001b[38;5;241m=\u001b[39m \u001b[43mextract_features\u001b[49m\u001b[43m(\u001b[49m\u001b[43mtrain_df\u001b[49m\u001b[43m[\u001b[49m\u001b[38;5;124;43m'\u001b[39;49m\u001b[38;5;124;43mfname\u001b[39;49m\u001b[38;5;124;43m'\u001b[39;49m\u001b[43m]\u001b[49m\u001b[43m[\u001b[49m\u001b[43m:\u001b[49m\u001b[38;5;241;43m500\u001b[39;49m\u001b[43m]\u001b[49m\u001b[38;5;241;43m.\u001b[39;49m\u001b[43mto_list\u001b[49m\u001b[43m(\u001b[49m\u001b[43m)\u001b[49m\u001b[43m,\u001b[49m\u001b[43m \u001b[49m\u001b[43mtrain_df\u001b[49m\u001b[43m[\u001b[49m\u001b[38;5;124;43m'\u001b[39;49m\u001b[38;5;124;43moutput_vec\u001b[39;49m\u001b[38;5;124;43m'\u001b[39;49m\u001b[43m]\u001b[49m\u001b[43m[\u001b[49m\u001b[43m:\u001b[49m\u001b[38;5;241;43m500\u001b[39;49m\u001b[43m]\u001b[49m\u001b[38;5;241;43m.\u001b[39;49m\u001b[43mto_list\u001b[49m\u001b[43m(\u001b[49m\u001b[43m)\u001b[49m\u001b[43m,\u001b[49m\u001b[43m \u001b[49m\u001b[43mDEV_ROOT\u001b[49m\u001b[43m)\u001b[49m\n",
      "Input \u001b[1;32mIn [65]\u001b[0m, in \u001b[0;36mextract_features\u001b[1;34m(fname_list, output_vec_list, DIR, bands, frames)\u001b[0m\n\u001b[0;32m     12\u001b[0m fn \u001b[38;5;241m=\u001b[39m DIR \u001b[38;5;241m+\u001b[39m file_name \u001b[38;5;241m+\u001b[39m \u001b[38;5;124m'\u001b[39m\u001b[38;5;124m.wav\u001b[39m\u001b[38;5;124m'\u001b[39m\n\u001b[0;32m     13\u001b[0m segment_log_specgrams, segment_labels \u001b[38;5;241m=\u001b[39m [], []\n\u001b[1;32m---> 14\u001b[0m sound_clip,sr \u001b[38;5;241m=\u001b[39m \u001b[43mlibrosa\u001b[49m\u001b[38;5;241;43m.\u001b[39;49m\u001b[43mload\u001b[49m\u001b[43m(\u001b[49m\u001b[43mfn\u001b[49m\u001b[43m)\u001b[49m\n\u001b[0;32m     15\u001b[0m label \u001b[38;5;241m=\u001b[39m output_vec_list[idx]\n\u001b[0;32m     16\u001b[0m \u001b[38;5;28;01mif\u001b[39;00m \u001b[38;5;28mlen\u001b[39m(sound_clip) \u001b[38;5;241m<\u001b[39m min_clip_len:\n",
      "File \u001b[1;32m~\\AppData\\Local\\Programs\\Python\\Python310\\lib\\site-packages\\librosa\\util\\decorators.py:88\u001b[0m, in \u001b[0;36mdeprecate_positional_args.<locals>._inner_deprecate_positional_args.<locals>.inner_f\u001b[1;34m(*args, **kwargs)\u001b[0m\n\u001b[0;32m     86\u001b[0m extra_args \u001b[38;5;241m=\u001b[39m \u001b[38;5;28mlen\u001b[39m(args) \u001b[38;5;241m-\u001b[39m \u001b[38;5;28mlen\u001b[39m(all_args)\n\u001b[0;32m     87\u001b[0m \u001b[38;5;28;01mif\u001b[39;00m extra_args \u001b[38;5;241m<\u001b[39m\u001b[38;5;241m=\u001b[39m \u001b[38;5;241m0\u001b[39m:\n\u001b[1;32m---> 88\u001b[0m     \u001b[38;5;28;01mreturn\u001b[39;00m f(\u001b[38;5;241m*\u001b[39margs, \u001b[38;5;241m*\u001b[39m\u001b[38;5;241m*\u001b[39mkwargs)\n\u001b[0;32m     90\u001b[0m \u001b[38;5;66;03m# extra_args > 0\u001b[39;00m\n\u001b[0;32m     91\u001b[0m args_msg \u001b[38;5;241m=\u001b[39m [\n\u001b[0;32m     92\u001b[0m     \u001b[38;5;124m\"\u001b[39m\u001b[38;5;132;01m{}\u001b[39;00m\u001b[38;5;124m=\u001b[39m\u001b[38;5;132;01m{}\u001b[39;00m\u001b[38;5;124m\"\u001b[39m\u001b[38;5;241m.\u001b[39mformat(name, arg)\n\u001b[0;32m     93\u001b[0m     \u001b[38;5;28;01mfor\u001b[39;00m name, arg \u001b[38;5;129;01min\u001b[39;00m \u001b[38;5;28mzip\u001b[39m(kwonly_args[:extra_args], args[\u001b[38;5;241m-\u001b[39mextra_args:])\n\u001b[0;32m     94\u001b[0m ]\n",
      "File \u001b[1;32m~\\AppData\\Local\\Programs\\Python\\Python310\\lib\\site-packages\\librosa\\core\\audio.py:183\u001b[0m, in \u001b[0;36mload\u001b[1;34m(path, sr, mono, offset, duration, dtype, res_type)\u001b[0m\n\u001b[0;32m    180\u001b[0m     y \u001b[38;5;241m=\u001b[39m to_mono(y)\n\u001b[0;32m    182\u001b[0m \u001b[38;5;28;01mif\u001b[39;00m sr \u001b[38;5;129;01mis\u001b[39;00m \u001b[38;5;129;01mnot\u001b[39;00m \u001b[38;5;28;01mNone\u001b[39;00m:\n\u001b[1;32m--> 183\u001b[0m     y \u001b[38;5;241m=\u001b[39m \u001b[43mresample\u001b[49m\u001b[43m(\u001b[49m\u001b[43my\u001b[49m\u001b[43m,\u001b[49m\u001b[43m \u001b[49m\u001b[43morig_sr\u001b[49m\u001b[38;5;241;43m=\u001b[39;49m\u001b[43msr_native\u001b[49m\u001b[43m,\u001b[49m\u001b[43m \u001b[49m\u001b[43mtarget_sr\u001b[49m\u001b[38;5;241;43m=\u001b[39;49m\u001b[43msr\u001b[49m\u001b[43m,\u001b[49m\u001b[43m \u001b[49m\u001b[43mres_type\u001b[49m\u001b[38;5;241;43m=\u001b[39;49m\u001b[43mres_type\u001b[49m\u001b[43m)\u001b[49m\n\u001b[0;32m    185\u001b[0m \u001b[38;5;28;01melse\u001b[39;00m:\n\u001b[0;32m    186\u001b[0m     sr \u001b[38;5;241m=\u001b[39m sr_native\n",
      "File \u001b[1;32m~\\AppData\\Local\\Programs\\Python\\Python310\\lib\\site-packages\\librosa\\util\\decorators.py:88\u001b[0m, in \u001b[0;36mdeprecate_positional_args.<locals>._inner_deprecate_positional_args.<locals>.inner_f\u001b[1;34m(*args, **kwargs)\u001b[0m\n\u001b[0;32m     86\u001b[0m extra_args \u001b[38;5;241m=\u001b[39m \u001b[38;5;28mlen\u001b[39m(args) \u001b[38;5;241m-\u001b[39m \u001b[38;5;28mlen\u001b[39m(all_args)\n\u001b[0;32m     87\u001b[0m \u001b[38;5;28;01mif\u001b[39;00m extra_args \u001b[38;5;241m<\u001b[39m\u001b[38;5;241m=\u001b[39m \u001b[38;5;241m0\u001b[39m:\n\u001b[1;32m---> 88\u001b[0m     \u001b[38;5;28;01mreturn\u001b[39;00m f(\u001b[38;5;241m*\u001b[39margs, \u001b[38;5;241m*\u001b[39m\u001b[38;5;241m*\u001b[39mkwargs)\n\u001b[0;32m     90\u001b[0m \u001b[38;5;66;03m# extra_args > 0\u001b[39;00m\n\u001b[0;32m     91\u001b[0m args_msg \u001b[38;5;241m=\u001b[39m [\n\u001b[0;32m     92\u001b[0m     \u001b[38;5;124m\"\u001b[39m\u001b[38;5;132;01m{}\u001b[39;00m\u001b[38;5;124m=\u001b[39m\u001b[38;5;132;01m{}\u001b[39;00m\u001b[38;5;124m\"\u001b[39m\u001b[38;5;241m.\u001b[39mformat(name, arg)\n\u001b[0;32m     93\u001b[0m     \u001b[38;5;28;01mfor\u001b[39;00m name, arg \u001b[38;5;129;01min\u001b[39;00m \u001b[38;5;28mzip\u001b[39m(kwonly_args[:extra_args], args[\u001b[38;5;241m-\u001b[39mextra_args:])\n\u001b[0;32m     94\u001b[0m ]\n",
      "File \u001b[1;32m~\\AppData\\Local\\Programs\\Python\\Python310\\lib\\site-packages\\librosa\\core\\audio.py:617\u001b[0m, in \u001b[0;36mresample\u001b[1;34m(y, orig_sr, target_sr, res_type, fix, scale, **kwargs)\u001b[0m\n\u001b[0;32m    615\u001b[0m     y_hat \u001b[38;5;241m=\u001b[39m soxr\u001b[38;5;241m.\u001b[39mresample(y\u001b[38;5;241m.\u001b[39mT, orig_sr, target_sr, quality\u001b[38;5;241m=\u001b[39mres_type)\u001b[38;5;241m.\u001b[39mT\n\u001b[0;32m    616\u001b[0m \u001b[38;5;28;01melse\u001b[39;00m:\n\u001b[1;32m--> 617\u001b[0m     y_hat \u001b[38;5;241m=\u001b[39m \u001b[43mresampy\u001b[49m\u001b[38;5;241;43m.\u001b[39;49m\u001b[43mresample\u001b[49m\u001b[43m(\u001b[49m\u001b[43my\u001b[49m\u001b[43m,\u001b[49m\u001b[43m \u001b[49m\u001b[43morig_sr\u001b[49m\u001b[43m,\u001b[49m\u001b[43m \u001b[49m\u001b[43mtarget_sr\u001b[49m\u001b[43m,\u001b[49m\u001b[43m \u001b[49m\u001b[38;5;28;43mfilter\u001b[39;49m\u001b[38;5;241;43m=\u001b[39;49m\u001b[43mres_type\u001b[49m\u001b[43m,\u001b[49m\u001b[43m \u001b[49m\u001b[43maxis\u001b[49m\u001b[38;5;241;43m=\u001b[39;49m\u001b[38;5;241;43m-\u001b[39;49m\u001b[38;5;241;43m1\u001b[39;49m\u001b[43m)\u001b[49m\n\u001b[0;32m    619\u001b[0m \u001b[38;5;28;01mif\u001b[39;00m fix:\n\u001b[0;32m    620\u001b[0m     y_hat \u001b[38;5;241m=\u001b[39m util\u001b[38;5;241m.\u001b[39mfix_length(y_hat, size\u001b[38;5;241m=\u001b[39mn_samples, \u001b[38;5;241m*\u001b[39m\u001b[38;5;241m*\u001b[39mkwargs)\n",
      "File \u001b[1;32m~\\AppData\\Local\\Programs\\Python\\Python310\\lib\\site-packages\\resampy\\core.py:120\u001b[0m, in \u001b[0;36mresample\u001b[1;34m(x, sr_orig, sr_new, axis, filter, **kwargs)\u001b[0m\n\u001b[0;32m    118\u001b[0m x_2d \u001b[38;5;241m=\u001b[39m x\u001b[38;5;241m.\u001b[39mswapaxes(\u001b[38;5;241m0\u001b[39m, axis)\u001b[38;5;241m.\u001b[39mreshape((x\u001b[38;5;241m.\u001b[39mshape[axis], \u001b[38;5;241m-\u001b[39m\u001b[38;5;241m1\u001b[39m))\n\u001b[0;32m    119\u001b[0m y_2d \u001b[38;5;241m=\u001b[39m y\u001b[38;5;241m.\u001b[39mswapaxes(\u001b[38;5;241m0\u001b[39m, axis)\u001b[38;5;241m.\u001b[39mreshape((y\u001b[38;5;241m.\u001b[39mshape[axis], \u001b[38;5;241m-\u001b[39m\u001b[38;5;241m1\u001b[39m))\n\u001b[1;32m--> 120\u001b[0m \u001b[43mresample_f\u001b[49m\u001b[43m(\u001b[49m\u001b[43mx_2d\u001b[49m\u001b[43m,\u001b[49m\u001b[43m \u001b[49m\u001b[43my_2d\u001b[49m\u001b[43m,\u001b[49m\u001b[43m \u001b[49m\u001b[43msample_ratio\u001b[49m\u001b[43m,\u001b[49m\u001b[43m \u001b[49m\u001b[43minterp_win\u001b[49m\u001b[43m,\u001b[49m\u001b[43m \u001b[49m\u001b[43minterp_delta\u001b[49m\u001b[43m,\u001b[49m\u001b[43m \u001b[49m\u001b[43mprecision\u001b[49m\u001b[43m)\u001b[49m\n\u001b[0;32m    122\u001b[0m \u001b[38;5;28;01mreturn\u001b[39;00m y\n",
      "\u001b[1;31mKeyboardInterrupt\u001b[0m: "
     ]
    }
   ],
   "source": [
    "features_tr, labels_tr = extract_features(train_df['fname'][:500].to_list(), train_df['output_vec'][:500].to_list(), DEV_ROOT)"
   ]
  },
  {
   "cell_type": "code",
   "execution_count": 48,
   "id": "948219ed-6311-490c-8146-73e4a45d6352",
   "metadata": {},
   "outputs": [],
   "source": [
    "features_val, labels_val = extract_features(val_df['fname'][:500].to_list(), val_df['output_vec'][:500].to_list(), DEV_ROOT)"
   ]
  },
  {
   "cell_type": "code",
   "execution_count": 49,
   "id": "787cc87a-2f15-4f35-9585-6f1ad9fcfa44",
   "metadata": {},
   "outputs": [],
   "source": [
    "STORE_DIR = './Data/Checkpoints/'\n",
    "np.savez_compressed(STORE_DIR+'train', features=np.asarray(features_tr,dtype=object), labels=np.asarray(labels_tr,dtype=object))\n",
    "np.savez_compressed(STORE_DIR+'val', features=np.asarray(features_val,dtype=object), labels=np.asarray(labels_val,dtype=object))"
   ]
  },
  {
   "cell_type": "code",
   "execution_count": 50,
   "id": "b6a67524-f8ec-4be9-9b98-021a4acb7324",
   "metadata": {},
   "outputs": [],
   "source": [
    "loaded_tr = np.load(STORE_DIR+'train'+'.npz', allow_pickle=True)\n",
    "loaded_val = np.load(STORE_DIR+'val'+'.npz', allow_pickle=True)"
   ]
  },
  {
   "cell_type": "code",
   "execution_count": 51,
   "id": "a97a430f-b2ad-459c-98be-2a930a802c32",
   "metadata": {},
   "outputs": [],
   "source": [
    "features_tr = loaded_tr[\"features\"]\n",
    "labels_tr = loaded_tr[\"labels\"]\n",
    "features_val = loaded_val[\"features\"]\n",
    "labels_val = loaded_val[\"labels\"]"
   ]
  },
  {
   "cell_type": "code",
   "execution_count": 54,
   "id": "c79d020b-5cb6-4eb0-a37e-30efa8f0d3b7",
   "metadata": {},
   "outputs": [
    {
     "data": {
      "text/plain": [
       "(2, 60, 41, 2)"
      ]
     },
     "execution_count": 54,
     "metadata": {},
     "output_type": "execute_result"
    }
   ],
   "source": [
    "features_tr[0].shape"
   ]
  },
  {
   "cell_type": "code",
   "execution_count": 40,
   "id": "d52ba045-88ad-4ef5-9b76-1ae83b03beb8",
   "metadata": {},
   "outputs": [
    {
     "data": {
      "text/plain": [
       "(11, 200)"
      ]
     },
     "execution_count": 40,
     "metadata": {},
     "output_type": "execute_result"
    }
   ],
   "source": [
    "np.asarray(labels_tr[0]).shape"
   ]
  },
  {
   "cell_type": "code",
   "execution_count": 55,
   "id": "434fc4db-b855-43ea-806b-66eb24c43cb8",
   "metadata": {},
   "outputs": [],
   "source": [
    "import tensorflow as tf\n",
    "from tensorflow import keras"
   ]
  },
  {
   "cell_type": "code",
   "execution_count": 56,
   "id": "3fd2747a-415e-4ec9-948e-edad09fe23b1",
   "metadata": {},
   "outputs": [],
   "source": [
    "def get_network():\n",
    "    num_filters = [24,32,64,128] \n",
    "    pool_size = (2, 2) \n",
    "    kernel_size = (3, 3)  \n",
    "    input_shape = (60, 41, 2)\n",
    "    num_classes = 200\n",
    "    keras.backend.clear_session()\n",
    "    \n",
    "    model = keras.models.Sequential()\n",
    "    model.add(keras.layers.Conv2D(24, kernel_size,\n",
    "                padding=\"same\", input_shape=input_shape))\n",
    "    model.add(keras.layers.BatchNormalization())\n",
    "    model.add(keras.layers.Activation(\"relu\"))\n",
    "    model.add(keras.layers.MaxPooling2D(pool_size=pool_size))\n",
    "\n",
    "    model.add(keras.layers.Conv2D(32, kernel_size,\n",
    "                                  padding=\"same\"))\n",
    "    model.add(keras.layers.BatchNormalization())\n",
    "    model.add(keras.layers.Activation(\"relu\"))  \n",
    "    model.add(keras.layers.MaxPooling2D(pool_size=pool_size))\n",
    "    \n",
    "    model.add(keras.layers.Conv2D(64, kernel_size,\n",
    "                                  padding=\"same\"))\n",
    "    model.add(keras.layers.BatchNormalization())\n",
    "    model.add(keras.layers.Activation(\"relu\"))  \n",
    "    model.add(keras.layers.MaxPooling2D(pool_size=pool_size))\n",
    "    \n",
    "    model.add(keras.layers.Conv2D(128, kernel_size,\n",
    "                                  padding=\"same\"))\n",
    "    model.add(keras.layers.BatchNormalization())\n",
    "    model.add(keras.layers.Activation(\"relu\"))  \n",
    "\n",
    "    model.add(keras.layers.GlobalMaxPooling2D())\n",
    "    model.add(keras.layers.Dense(128, activation=\"relu\"))\n",
    "    model.add(keras.layers.Dense(num_classes, activation=\"sigmoid\"))\n",
    "\n",
    "    model.compile(optimizer=tf.keras.optimizers.Adam(1e-4), \n",
    "        loss=keras.losses.BinaryCrossentropy(), \n",
    "        metrics=[\"AUC\"])\n",
    "    return model"
   ]
  },
  {
   "cell_type": "code",
   "execution_count": 59,
   "id": "ec66f080-0e3b-4180-b901-9877346c9b40",
   "metadata": {},
   "outputs": [
    {
     "name": "stdout",
     "output_type": "stream",
     "text": [
      "Epoch 1/10\n",
      "126/126 [==============================] - 10s 73ms/step - loss: 0.4150 - auc: 0.8150 - val_loss: 0.2956 - val_auc: 0.5846\n",
      "Epoch 2/10\n",
      "126/126 [==============================] - 10s 77ms/step - loss: 0.0382 - auc: 0.9925 - val_loss: 0.1240 - val_auc: 0.6148\n",
      "Epoch 3/10\n",
      "126/126 [==============================] - 9s 75ms/step - loss: 0.0156 - auc: 0.9968 - val_loss: 0.1401 - val_auc: 0.6266\n",
      "Epoch 4/10\n",
      "126/126 [==============================] - 10s 81ms/step - loss: 0.0109 - auc: 0.9986 - val_loss: 0.1543 - val_auc: 0.6214\n",
      "Epoch 5/10\n",
      "126/126 [==============================] - 10s 77ms/step - loss: 0.0077 - auc: 0.9992 - val_loss: 0.1599 - val_auc: 0.6111\n",
      "Epoch 6/10\n",
      "126/126 [==============================] - 9s 74ms/step - loss: 0.0055 - auc: 0.9995 - val_loss: 0.1589 - val_auc: 0.6150\n",
      "Epoch 7/10\n",
      "126/126 [==============================] - 9s 74ms/step - loss: 0.0043 - auc: 0.9996 - val_loss: 0.1657 - val_auc: 0.6183\n",
      "Epoch 8/10\n",
      "126/126 [==============================] - 9s 74ms/step - loss: 0.0035 - auc: 0.9997 - val_loss: 0.1736 - val_auc: 0.6197\n",
      "Epoch 9/10\n",
      "126/126 [==============================] - 10s 77ms/step - loss: 0.0030 - auc: 0.9998 - val_loss: 0.1754 - val_auc: 0.6208\n",
      "Epoch 10/10\n",
      "126/126 [==============================] - 10s 77ms/step - loss: 0.0025 - auc: 0.9998 - val_loss: 0.1803 - val_auc: 0.6213\n"
     ]
    },
    {
     "data": {
      "text/plain": [
       "<keras.callbacks.History at 0x1f9112a48b0>"
      ]
     },
     "execution_count": 59,
     "metadata": {},
     "output_type": "execute_result"
    }
   ],
   "source": [
    "# x_tr = np.asarray(features)\n",
    "# y_tr = np.asarray(labels)\n",
    "\n",
    "x_tr = np.concatenate(features_tr, axis=0) \n",
    "y_tr = np.concatenate(labels_tr, axis=0) \n",
    "\n",
    "x_val = np.concatenate(features_val, axis=0) \n",
    "y_val= np.concatenate(labels_val, axis=0) \n",
    "\n",
    "model = get_network()\n",
    "model.fit(x_tr, y_tr, validation_data = (x_val,y_val), epochs = 10, batch_size = 24, verbose = 1, shuffle=True)"
   ]
  },
  {
   "cell_type": "code",
   "execution_count": 62,
   "id": "dc0c1e71-cb42-4550-95b0-5fc7db0e6c7b",
   "metadata": {},
   "outputs": [
    {
     "data": {
      "text/plain": [
       "(720, 60, 41, 2)"
      ]
     },
     "execution_count": 62,
     "metadata": {},
     "output_type": "execute_result"
    }
   ],
   "source": [
    "\n"
   ]
  },
  {
   "cell_type": "code",
   "execution_count": 105,
   "id": "8dd277af-a4eb-478e-aa72-c653f1128f6a",
   "metadata": {},
   "outputs": [],
   "source": [
    "y_pred = model.predict(features[0])"
   ]
  },
  {
   "cell_type": "code",
   "execution_count": 35,
   "id": "2ff8b5d7-2c31-49a1-8b74-173fa7b8abbc",
   "metadata": {},
   "outputs": [],
   "source": [
    "temp = np.asarray([0, 1, 0, 0, 0, 0, 0, 0, 0, 0, 0, 0, 0, 0, 0, 0, 0, 0, 0, 0, 0, 0,\n",
    "       0, 0, 0, 0, 1, 0, 0, 0, 0, 0, 0, 0, 0, 0, 0, 0, 0, 0, 0, 0, 0, 0,\n",
    "       0, 0, 0, 0, 1, 0, 0, 0, 0, 0, 0, 0, 0, 0, 0, 0, 0, 0, 0, 0, 0, 0,\n",
    "       0, 0, 0, 0, 0, 0, 0, 0, 0, 0, 0, 0, 0, 0, 1, 0, 1, 1, 1, 1, 0, 0,\n",
    "       0, 0, 0, 0, 0, 0, 0, 0, 0, 1, 0, 0, 0, 0, 0, 0, 0, 0, 0, 0, 0, 0,\n",
    "       0, 0, 0, 0, 0, 0, 0, 0, 0, 0, 0, 0, 0, 0, 0, 0, 0, 0, 0, 0, 0, 0,\n",
    "       0, 0, 0, 0, 0, 0, 0, 0, 0, 0, 0, 0, 0, 0, 0, 0, 0, 0, 0, 0, 0, 0,\n",
    "       0, 0, 0, 0, 0, 0, 0, 0, 0, 0, 0, 0, 0, 0, 0, 0, 0, 1, 0, 0, 0, 0,\n",
    "       0, 0, 0, 0, 0, 0, 0, 0, 0, 0, 0, 0, 0, 0, 0, 0, 0, 0, 0, 0, 0, 0,\n",
    "       0, 0])"
   ]
  },
  {
   "cell_type": "code",
   "execution_count": 28,
   "id": "0bd3f616-6f7a-43f6-b6ce-9cd514b57ae3",
   "metadata": {},
   "outputs": [],
   "source": [
    "from sklearn import metrics"
   ]
  },
  {
   "cell_type": "code",
   "execution_count": 62,
   "id": "c0975867-b451-4516-bb94-304e218b89cf",
   "metadata": {},
   "outputs": [
    {
     "data": {
      "text/plain": [
       "(2, 60, 41, 2)"
      ]
     },
     "execution_count": 62,
     "metadata": {},
     "output_type": "execute_result"
    }
   ],
   "source": [
    "features_tr[0].shape"
   ]
  },
  {
   "cell_type": "code",
   "execution_count": 106,
   "id": "0977f133-f7c8-486b-9f0c-9504a517d120",
   "metadata": {},
   "outputs": [
    {
     "data": {
      "text/plain": [
       "1.0"
      ]
     },
     "execution_count": 106,
     "metadata": {},
     "output_type": "execute_result"
    }
   ],
   "source": [
    "# first index in latter element because same copied down the stream\n",
    "# np.seterr(divide='', invalid='')\n",
    "metrics.average_precision_score(np.asarray(labels[0])[1],y_pred[1], average=None)"
   ]
  },
  {
   "cell_type": "code",
   "execution_count": 41,
   "id": "04aaceeb-cae0-4ef0-ae75-7a38505c8ec3",
   "metadata": {},
   "outputs": [
    {
     "data": {
      "text/plain": [
       "1.0"
      ]
     },
     "execution_count": 41,
     "metadata": {},
     "output_type": "execute_result"
    }
   ],
   "source": [
    "metrics.average_precision_score(np.asarray(labels[2])[0],y_pred[0], average=None)"
   ]
  },
  {
   "cell_type": "code",
   "execution_count": null,
   "id": "cc4289ed-93e7-4f78-bd80-5a6b32e57241",
   "metadata": {},
   "outputs": [],
   "source": [
    "metrics.average_precision_score(np.asarray(labels[0]),y_pred)"
   ]
  },
  {
   "cell_type": "code",
   "execution_count": null,
   "id": "16393799-914f-41fe-b068-0805fcaca03a",
   "metadata": {},
   "outputs": [],
   "source": [
    "metrics.average_precision_score(np.asarray(labels[0]),np.where(y_pred<0.5, 0, 1), average=None)"
   ]
  },
  {
   "cell_type": "code",
   "execution_count": null,
   "id": "ef352ccc-3b8f-47fa-a4c4-e0d69c2fe2db",
   "metadata": {},
   "outputs": [],
   "source": [
    "y_pred"
   ]
  },
  {
   "cell_type": "code",
   "execution_count": 151,
   "id": "05fd41a4-6a6a-4ad4-8584-461ddee84792",
   "metadata": {},
   "outputs": [
    {
     "data": {
      "text/plain": [
       "[9.70866e-12, 6.3639215e-12]"
      ]
     },
     "execution_count": 151,
     "metadata": {},
     "output_type": "execute_result"
    }
   ],
   "source": [
    "list(y_pred[:,0])"
   ]
  },
  {
   "cell_type": "code",
   "execution_count": null,
   "id": "d3f3097f-0eaa-45ba-9d15-2a2494c2809b",
   "metadata": {},
   "outputs": [],
   "source": [
    "np.asarray(labels[0])"
   ]
  },
  {
   "cell_type": "code",
   "execution_count": 166,
   "id": "813dafc3-8c53-4738-ba30-1ab584996723",
   "metadata": {},
   "outputs": [
    {
     "data": {
      "text/plain": [
       "array([1, 1])"
      ]
     },
     "execution_count": 166,
     "metadata": {},
     "output_type": "execute_result"
    }
   ],
   "source": [
    "np.asarray(labels[0])[:,48]"
   ]
  },
  {
   "cell_type": "code",
   "execution_count": 170,
   "id": "3f12eb1e-66fa-4f59-8364-42740e44168c",
   "metadata": {},
   "outputs": [
    {
     "data": {
      "text/plain": [
       "array([0.5727001 , 0.56160223], dtype=float32)"
      ]
     },
     "execution_count": 170,
     "metadata": {},
     "output_type": "execute_result"
    }
   ],
   "source": [
    "y_pred[:,48]"
   ]
  },
  {
   "cell_type": "code",
   "execution_count": 25,
   "id": "06ef348f-9b98-4669-b38e-6bbe147daf7f",
   "metadata": {},
   "outputs": [
    {
     "data": {
      "text/plain": [
       "array([0, 0])"
      ]
     },
     "execution_count": 25,
     "metadata": {},
     "output_type": "execute_result"
    }
   ],
   "source": [
    "np.asarray(labels[0])[:,47]"
   ]
  },
  {
   "cell_type": "code",
   "execution_count": 26,
   "id": "18925df5-86ac-4dff-bd56-87fef5b25f32",
   "metadata": {},
   "outputs": [
    {
     "data": {
      "text/plain": [
       "array([3.8880571e-05, 4.4469878e-05], dtype=float32)"
      ]
     },
     "execution_count": 26,
     "metadata": {},
     "output_type": "execute_result"
    }
   ],
   "source": [
    "y_pred[:,47]"
   ]
  },
  {
   "cell_type": "code",
   "execution_count": 188,
   "id": "5d46c51d-f4e6-41ba-8ef0-b2191d79775d",
   "metadata": {},
   "outputs": [
    {
     "name": "stderr",
     "output_type": "stream",
     "text": [
      "C:\\Users\\simma\\AppData\\Local\\Programs\\Python\\Python310\\lib\\site-packages\\sklearn\\metrics\\_ranking.py:864: RuntimeWarning: invalid value encountered in true_divide\n",
      "  recall = tps / tps[-1]\n"
     ]
    },
    {
     "data": {
      "text/plain": [
       "nan"
      ]
     },
     "execution_count": 188,
     "metadata": {},
     "output_type": "execute_result"
    }
   ],
   "source": [
    "metrics.average_precision_score([0,0],y_pred[:,47])"
   ]
  },
  {
   "cell_type": "code",
   "execution_count": 38,
   "id": "e0007599-62c1-49d1-9c28-3bfcd6559c06",
   "metadata": {},
   "outputs": [
    {
     "data": {
      "text/plain": [
       "array([[0, 0, 0, 0, 0, 0, 0, 0, 0, 0, 0, 0, 0, 0, 0, 0, 0, 0, 0, 0, 0, 0,\n",
       "        0, 0, 0, 0, 0, 0, 0, 0, 0, 0, 0, 0, 0, 0, 0, 0, 0, 0, 0, 0, 0, 0,\n",
       "        0, 0, 0, 0, 1, 0, 0, 0, 0, 0, 0, 1, 0, 0, 0, 0, 0, 0, 0, 0, 0, 0,\n",
       "        0, 0, 0, 0, 0, 0, 0, 0, 0, 0, 0, 0, 0, 1, 0, 1, 0, 0, 0, 0, 0, 0,\n",
       "        0, 0, 0, 0, 0, 0, 0, 0, 0, 0, 0, 0, 0, 0, 0, 0, 0, 0, 0, 0, 0, 0,\n",
       "        0, 0, 0, 0, 0, 0, 0, 0, 0, 0, 0, 0, 0, 0, 0, 0, 0, 0, 0, 0, 0, 0,\n",
       "        0, 0, 0, 0, 0, 0, 0, 0, 0, 0, 0, 0, 0, 0, 0, 0, 0, 0, 0, 0, 0, 0,\n",
       "        0, 0, 0, 0, 0, 0, 0, 0, 0, 0, 0, 0, 0, 0, 0, 0, 0, 1, 0, 0, 0, 0,\n",
       "        0, 0, 0, 0, 0, 0, 0, 0, 0, 0, 0, 0, 0, 0, 0, 0, 0, 0, 0, 0, 0, 0,\n",
       "        0, 0],\n",
       "       [0, 0, 0, 0, 0, 0, 0, 0, 0, 0, 0, 0, 0, 0, 0, 0, 0, 0, 0, 0, 0, 0,\n",
       "        0, 0, 0, 0, 0, 0, 0, 0, 0, 0, 0, 0, 0, 0, 0, 0, 0, 0, 0, 0, 0, 0,\n",
       "        0, 0, 0, 0, 1, 0, 0, 0, 0, 0, 0, 1, 0, 0, 0, 0, 0, 0, 0, 0, 0, 0,\n",
       "        0, 0, 0, 0, 0, 0, 0, 0, 0, 0, 0, 0, 0, 1, 0, 1, 0, 0, 0, 0, 0, 0,\n",
       "        0, 0, 0, 0, 0, 0, 0, 0, 0, 0, 0, 0, 0, 0, 0, 0, 0, 0, 0, 0, 0, 0,\n",
       "        0, 0, 0, 0, 0, 0, 0, 0, 0, 0, 0, 0, 0, 0, 0, 0, 0, 0, 0, 0, 0, 0,\n",
       "        0, 0, 0, 0, 0, 0, 0, 0, 0, 0, 0, 0, 0, 0, 0, 0, 0, 0, 0, 0, 0, 0,\n",
       "        0, 0, 0, 0, 0, 0, 0, 0, 0, 0, 0, 0, 0, 0, 0, 0, 0, 1, 0, 0, 0, 0,\n",
       "        0, 0, 0, 0, 0, 0, 0, 0, 0, 0, 0, 0, 0, 0, 0, 0, 0, 0, 0, 0, 0, 0,\n",
       "        0, 0]])"
      ]
     },
     "execution_count": 38,
     "metadata": {},
     "output_type": "execute_result"
    }
   ],
   "source": [
    "np.where(y_pred<0.5, 0, 1)"
   ]
  },
  {
   "cell_type": "code",
   "execution_count": 195,
   "id": "3212c0ab-7272-47db-8f1b-5659d88d37f6",
   "metadata": {},
   "outputs": [
    {
     "data": {
      "text/plain": [
       "(200, 2)"
      ]
     },
     "execution_count": 195,
     "metadata": {},
     "output_type": "execute_result"
    }
   ],
   "source": [
    "np.asarray(labels[0]).T.shape"
   ]
  },
  {
   "cell_type": "code",
   "execution_count": 44,
   "id": "4bdb151c-bed6-4682-98d5-09dc931126aa",
   "metadata": {},
   "outputs": [
    {
     "data": {
      "text/plain": [
       "1.0"
      ]
     },
     "execution_count": 44,
     "metadata": {},
     "output_type": "execute_result"
    }
   ],
   "source": [
    "metrics.average_precision_score(np.asarray(labels[3]).T,np.where(y_pred<0.5, 0, 1).T)"
   ]
  },
  {
   "cell_type": "code",
   "execution_count": 205,
   "id": "56d8ff37-dec4-426c-afb7-6c5c205f7eee",
   "metadata": {},
   "outputs": [
    {
     "data": {
      "text/plain": [
       "(2, 200)"
      ]
     },
     "execution_count": 205,
     "metadata": {},
     "output_type": "execute_result"
    }
   ],
   "source": [
    "np.asarray(labels[0]).shape"
   ]
  },
  {
   "cell_type": "code",
   "execution_count": null,
   "id": "5e073e3d-0d44-4520-8b68-8521e3ac1dbc",
   "metadata": {},
   "outputs": [],
   "source": []
  }
 ],
 "metadata": {
  "kernelspec": {
   "display_name": "Python 3 (ipykernel)",
   "language": "python",
   "name": "python3"
  },
  "language_info": {
   "codemirror_mode": {
    "name": "ipython",
    "version": 3
   },
   "file_extension": ".py",
   "mimetype": "text/x-python",
   "name": "python",
   "nbconvert_exporter": "python",
   "pygments_lexer": "ipython3",
   "version": "3.10.2"
  }
 },
 "nbformat": 4,
 "nbformat_minor": 5
}
